{
  "nbformat": 4,
  "nbformat_minor": 0,
  "metadata": {
    "colab": {
      "provenance": [],
      "authorship_tag": "ABX9TyN8t2v2voNHLgsVjP0PiLjQ",
      "include_colab_link": true
    },
    "kernelspec": {
      "name": "python3",
      "display_name": "Python 3"
    },
    "language_info": {
      "name": "python"
    }
  },
  "cells": [
    {
      "cell_type": "markdown",
      "metadata": {
        "id": "view-in-github",
        "colab_type": "text"
      },
      "source": [
        "<a href=\"https://colab.research.google.com/github/VishwajeeetSingh/RL_21CSU386/blob/main/Experiment1RL.ipynb\" target=\"_parent\"><img src=\"https://colab.research.google.com/assets/colab-badge.svg\" alt=\"Open In Colab\"/></a>"
      ]
    },
    {
      "cell_type": "code",
      "execution_count": 94,
      "metadata": {
        "colab": {
          "base_uri": "https://localhost:8080/"
        },
        "id": "9TyLASHPqgGK",
        "outputId": "a376e1ac-118a-4645-8baa-8a4bbc5b109d"
      },
      "outputs": [
        {
          "output_type": "stream",
          "name": "stdout",
          "text": [
            "Python 3.10.12\n"
          ]
        }
      ],
      "source": [
        "!python --version\n"
      ]
    },
    {
      "cell_type": "code",
      "source": [
        "def quicksort(arr):\n",
        " if len(arr) <=1:\n",
        "    return arr\n",
        "    pivot = arr[len(arr)//2]\n",
        "    left = [x for x in arr if x < pivot]\n",
        "    middle = [x for x in arr if x == pivot]\n",
        "    right = [x for x in arr if x > pivot]\n",
        "    return quicksort(left) + middle + quicksort(right)\n",
        " print(quicksort([3,2,6,8,6,7,2,4]))"
      ],
      "metadata": {
        "id": "hskpYoMMsqrR"
      },
      "execution_count": 134,
      "outputs": []
    },
    {
      "cell_type": "code",
      "source": [
        "x = 3\n",
        "print(x,type)\n"
      ],
      "metadata": {
        "colab": {
          "base_uri": "https://localhost:8080/"
        },
        "id": "wJ69l742ugU4",
        "outputId": "e39d4691-487a-43d8-bb73-3854d2c74e3b"
      },
      "execution_count": 135,
      "outputs": [
        {
          "output_type": "stream",
          "name": "stdout",
          "text": [
            "3 <class 'type'>\n"
          ]
        }
      ]
    },
    {
      "cell_type": "code",
      "source": [
        "print(x+1)\n",
        "print(x-1)\n",
        "print(x*2)\n",
        "print(x**2)"
      ],
      "metadata": {
        "colab": {
          "base_uri": "https://localhost:8080/"
        },
        "id": "xbTO3YnwuyKU",
        "outputId": "21c6290c-41cc-4218-cc51-4b5cadae948e"
      },
      "execution_count": 118,
      "outputs": [
        {
          "output_type": "stream",
          "name": "stdout",
          "text": [
            "4\n",
            "2\n",
            "6\n",
            "9\n"
          ]
        }
      ]
    },
    {
      "cell_type": "code",
      "source": [
        "x+=1\n",
        "print(x)"
      ],
      "metadata": {
        "colab": {
          "base_uri": "https://localhost:8080/"
        },
        "id": "JOcKkrGrvGIp",
        "outputId": "c4c81b33-cb5a-4f80-aad7-385fbbf6684c"
      },
      "execution_count": 97,
      "outputs": [
        {
          "output_type": "stream",
          "name": "stdout",
          "text": [
            "2\n"
          ]
        }
      ]
    },
    {
      "cell_type": "code",
      "source": [
        "y =2.5678854895454854484265486616\n",
        "print(type(y))\n",
        "print(y,y+1,y*2,y**2)"
      ],
      "metadata": {
        "colab": {
          "base_uri": "https://localhost:8080/"
        },
        "id": "krBFmU4XvujA",
        "outputId": "4111cab8-8148-4e04-dfc4-6e2c15c53e4c"
      },
      "execution_count": 98,
      "outputs": [
        {
          "output_type": "stream",
          "name": "stdout",
          "text": [
            "<class 'float'>\n",
            "2.5678854895454855 3.5678854895454855 5.135770979090971 6.594035887418258\n"
          ]
        }
      ]
    },
    {
      "cell_type": "code",
      "source": [
        "t,f=True,False\n",
        "print(type(t))"
      ],
      "metadata": {
        "colab": {
          "base_uri": "https://localhost:8080/"
        },
        "id": "Wyjxc7jawQgJ",
        "outputId": "7cabe601-d150-4b05-e315-51291706538b"
      },
      "execution_count": 99,
      "outputs": [
        {
          "output_type": "stream",
          "name": "stdout",
          "text": [
            "<class 'bool'>\n"
          ]
        }
      ]
    },
    {
      "cell_type": "code",
      "source": [
        "print(t and f)\n",
        "print(t or f)\n",
        "print(not t)\n",
        "print(t !=f)\n",
        "print(not f)"
      ],
      "metadata": {
        "colab": {
          "base_uri": "https://localhost:8080/"
        },
        "id": "CYNRP1s4wxlN",
        "outputId": "cf67d344-3c45-4c2d-cb95-4e9ed270a984"
      },
      "execution_count": 100,
      "outputs": [
        {
          "output_type": "stream",
          "name": "stdout",
          "text": [
            "False\n",
            "True\n",
            "False\n",
            "True\n",
            "True\n"
          ]
        }
      ]
    },
    {
      "cell_type": "code",
      "source": [
        "hello = 'hello'\n",
        "world = \"world\"\n",
        "\n",
        "print(hello, len(hello))\n"
      ],
      "metadata": {
        "colab": {
          "base_uri": "https://localhost:8080/"
        },
        "id": "-kpKbk_ZxZqB",
        "outputId": "ed817012-41de-46ef-df98-5381a4afdd2c"
      },
      "execution_count": 101,
      "outputs": [
        {
          "output_type": "stream",
          "name": "stdout",
          "text": [
            "hello 5\n"
          ]
        }
      ]
    },
    {
      "cell_type": "code",
      "source": [
        "hw= hello+\"\"+world\n",
        "print(hw)"
      ],
      "metadata": {
        "colab": {
          "base_uri": "https://localhost:8080/"
        },
        "id": "Z80xF7f_x-YI",
        "outputId": "b3678b2f-6740-44d6-9cc5-a3f0777604b2"
      },
      "execution_count": 102,
      "outputs": [
        {
          "output_type": "stream",
          "name": "stdout",
          "text": [
            "helloworld\n"
          ]
        }
      ]
    },
    {
      "cell_type": "code",
      "source": [
        "hw12='{} {} {} '.format(hello,world,12)\n",
        "print(hw12)"
      ],
      "metadata": {
        "colab": {
          "base_uri": "https://localhost:8080/"
        },
        "id": "-axMwIimyZGd",
        "outputId": "c9e5c037-efab-4ed4-eaad-58e4ccc4aa79"
      },
      "execution_count": 104,
      "outputs": [
        {
          "output_type": "stream",
          "name": "stdout",
          "text": [
            "hello world 12 \n"
          ]
        }
      ]
    },
    {
      "cell_type": "code",
      "source": [
        "s=\"round\"\n",
        "print(s.capitalize())\n",
        "print(s.upper())\n",
        "print(s.rjust(10))\n",
        "print(s.center(12))\n"
      ],
      "metadata": {
        "colab": {
          "base_uri": "https://localhost:8080/"
        },
        "id": "7rZcvhRrz7dr",
        "outputId": "902dc9fd-215c-4dda-9c02-20b57c3931b1"
      },
      "execution_count": 105,
      "outputs": [
        {
          "output_type": "stream",
          "name": "stdout",
          "text": [
            "Round\n",
            "ROUND\n",
            "     round\n",
            "   round    \n"
          ]
        }
      ]
    },
    {
      "cell_type": "code",
      "source": [
        "print(s.center(17))"
      ],
      "metadata": {
        "colab": {
          "base_uri": "https://localhost:8080/"
        },
        "outputId": "335caede-deab-444c-aabd-0afcae0c5e1e",
        "id": "gLKfhQ0p4IYt"
      },
      "execution_count": 106,
      "outputs": [
        {
          "output_type": "stream",
          "name": "stdout",
          "text": [
            "      round      \n"
          ]
        }
      ]
    },
    {
      "cell_type": "code",
      "source": [
        "print(s.center(17))"
      ],
      "metadata": {
        "colab": {
          "base_uri": "https://localhost:8080/"
        },
        "outputId": "a4c851aa-c939-4df9-ef03-e0a09460ac53",
        "id": "qWs_1ORV4Hrd"
      },
      "execution_count": 107,
      "outputs": [
        {
          "output_type": "stream",
          "name": "stdout",
          "text": [
            "      round      \n"
          ]
        }
      ]
    },
    {
      "cell_type": "code",
      "source": [
        "print(s.replace('o','(ell)'))"
      ],
      "metadata": {
        "colab": {
          "base_uri": "https://localhost:8080/"
        },
        "id": "dUzgfHrU1tfQ",
        "outputId": "9d27470f-b061-463e-a3e1-80bf9e172112"
      },
      "execution_count": 108,
      "outputs": [
        {
          "output_type": "stream",
          "name": "stdout",
          "text": [
            "r(ell)und\n"
          ]
        }
      ]
    },
    {
      "cell_type": "code",
      "source": [
        "s1 =\"machine learning\"\n",
        "print(s1.capitalize())"
      ],
      "metadata": {
        "colab": {
          "base_uri": "https://localhost:8080/"
        },
        "id": "DvRCVHKu2DWc",
        "outputId": "c68cc499-b506-4316-d741-0e76c9ffe269"
      },
      "execution_count": 109,
      "outputs": [
        {
          "output_type": "stream",
          "name": "stdout",
          "text": [
            "Machine learning\n"
          ]
        }
      ]
    },
    {
      "cell_type": "code",
      "source": [
        "\n",
        "print(s1.center(35))"
      ],
      "metadata": {
        "colab": {
          "base_uri": "https://localhost:8080/"
        },
        "id": "b0J-Ca1B3N_8",
        "outputId": "be7ebff9-7614-4ef4-84d1-c4d14bd61ef3"
      },
      "execution_count": 110,
      "outputs": [
        {
          "output_type": "stream",
          "name": "stdout",
          "text": [
            "          machine learning         \n"
          ]
        }
      ]
    },
    {
      "cell_type": "code",
      "source": [
        "xs = [3,1,2]\n",
        "print(xs,xs[2])"
      ],
      "metadata": {
        "colab": {
          "base_uri": "https://localhost:8080/"
        },
        "id": "lUH0b0er3kx7",
        "outputId": "4e716ab8-7b76-47d2-db37-aa605a6410ac"
      },
      "execution_count": 111,
      "outputs": [
        {
          "output_type": "stream",
          "name": "stdout",
          "text": [
            "[3, 1, 2] 2\n"
          ]
        }
      ]
    },
    {
      "cell_type": "code",
      "source": [
        "print(xs[-3])"
      ],
      "metadata": {
        "colab": {
          "base_uri": "https://localhost:8080/"
        },
        "id": "8XeUIIRN5A6Q",
        "outputId": "d4987d57-a822-45f2-c530-a0b11b59ef58"
      },
      "execution_count": 112,
      "outputs": [
        {
          "output_type": "stream",
          "name": "stdout",
          "text": [
            "3\n"
          ]
        }
      ]
    },
    {
      "cell_type": "code",
      "source": [
        "\n",
        "xs[2]=4\n",
        "print(xs)"
      ],
      "metadata": {
        "colab": {
          "base_uri": "https://localhost:8080/"
        },
        "id": "f81nWgl65EjF",
        "outputId": "4a1bf292-2543-4639-92f6-7e38e8150a57"
      },
      "execution_count": 113,
      "outputs": [
        {
          "output_type": "stream",
          "name": "stdout",
          "text": [
            "[3, 1, 4]\n"
          ]
        }
      ]
    },
    {
      "cell_type": "code",
      "source": [
        "xs.append(\"bar\")\n",
        "print(xs)"
      ],
      "metadata": {
        "colab": {
          "base_uri": "https://localhost:8080/"
        },
        "id": "gfayvLif5nuq",
        "outputId": "2cc8b452-6b3e-4d1a-f44c-2c918a90260d"
      },
      "execution_count": 114,
      "outputs": [
        {
          "output_type": "stream",
          "name": "stdout",
          "text": [
            "[3, 1, 4, 'bar']\n"
          ]
        }
      ]
    },
    {
      "cell_type": "code",
      "source": [
        "\n",
        "\n",
        "x=xs.pop(2)\n",
        "print(x,xs)"
      ],
      "metadata": {
        "colab": {
          "base_uri": "https://localhost:8080/"
        },
        "id": "i_1wn0HG5vAG",
        "outputId": "f956baac-849d-40c1-f8a4-944dac9b0652"
      },
      "execution_count": 116,
      "outputs": [
        {
          "output_type": "stream",
          "name": "stdout",
          "text": [
            "bar [3, 4]\n"
          ]
        }
      ]
    },
    {
      "cell_type": "code",
      "source": [
        "nums= list(range(10))\n",
        "print(nums)"
      ],
      "metadata": {
        "colab": {
          "base_uri": "https://localhost:8080/"
        },
        "id": "dT3-Wlu558KT",
        "outputId": "b6f1339e-9b0c-4add-9f2d-890513e7d06e"
      },
      "execution_count": 120,
      "outputs": [
        {
          "output_type": "stream",
          "name": "stdout",
          "text": [
            "[0, 1, 2, 3, 4, 5, 6, 7, 8, 9]\n"
          ]
        }
      ]
    },
    {
      "cell_type": "code",
      "source": [
        "print(nums[:5])"
      ],
      "metadata": {
        "colab": {
          "base_uri": "https://localhost:8080/"
        },
        "id": "piSCfZkm7doQ",
        "outputId": "7c394bcc-662e-405c-a90d-c426357ae5f2"
      },
      "execution_count": 125,
      "outputs": [
        {
          "output_type": "stream",
          "name": "stdout",
          "text": [
            "[0, 1, 2, 3, 4]\n"
          ]
        }
      ]
    },
    {
      "cell_type": "code",
      "source": [
        "print(nums[2:])"
      ],
      "metadata": {
        "colab": {
          "base_uri": "https://localhost:8080/"
        },
        "id": "O2wjJSSC7oe-",
        "outputId": "b631d085-2236-4a79-ec56-d53a23e215e0"
      },
      "execution_count": 123,
      "outputs": [
        {
          "output_type": "stream",
          "name": "stdout",
          "text": [
            "[2, 3, 4, 5, 6, 7, 8, 9]\n"
          ]
        }
      ]
    },
    {
      "cell_type": "code",
      "source": [
        "print(nums[:])"
      ],
      "metadata": {
        "colab": {
          "base_uri": "https://localhost:8080/"
        },
        "id": "dVcj23Xx73NO",
        "outputId": "35145016-260f-431a-85ea-5e0662f275c8"
      },
      "execution_count": 126,
      "outputs": [
        {
          "output_type": "stream",
          "name": "stdout",
          "text": [
            "[0, 1, 2, 3, 4, 5, 6, 7, 8, 9]\n"
          ]
        }
      ]
    },
    {
      "cell_type": "code",
      "source": [
        "print(nums[-1])"
      ],
      "metadata": {
        "colab": {
          "base_uri": "https://localhost:8080/"
        },
        "id": "aIqslLcs8Vni",
        "outputId": "a3d33bfe-8b89-4938-c624-f9eecb857f6a"
      },
      "execution_count": 127,
      "outputs": [
        {
          "output_type": "stream",
          "name": "stdout",
          "text": [
            "9\n"
          ]
        }
      ]
    },
    {
      "cell_type": "code",
      "source": [
        "nums[2:4]=[8,9,5]\n",
        "print(nums)"
      ],
      "metadata": {
        "colab": {
          "base_uri": "https://localhost:8080/"
        },
        "id": "a233fb9b8djB",
        "outputId": "a0acc1c2-3640-4240-b5c2-b1c92360a23e"
      },
      "execution_count": 130,
      "outputs": [
        {
          "output_type": "stream",
          "name": "stdout",
          "text": [
            "[0, 1, 8, 9, 5, 4, 5, 6, 7, 8, 9]\n"
          ]
        }
      ]
    },
    {
      "cell_type": "code",
      "source": [
        "animals=['cat','monkey','dog']\n",
        "for x in animals:\n",
        "  print(x)"
      ],
      "metadata": {
        "colab": {
          "base_uri": "https://localhost:8080/"
        },
        "id": "ygVEDJ4t8uBJ",
        "outputId": "6d2811ff-d70a-4dbf-97ab-21b58463474d"
      },
      "execution_count": 131,
      "outputs": [
        {
          "output_type": "stream",
          "name": "stdout",
          "text": [
            "cat\n",
            "monkey\n",
            "dog\n"
          ]
        }
      ]
    },
    {
      "cell_type": "code",
      "source": [
        "animals=['çat','dog','monkey']\n",
        "for idx,animal in enumerate(animals):\n",
        "  print('#{}: {}'.format(idx+1,animal))"
      ],
      "metadata": {
        "colab": {
          "base_uri": "https://localhost:8080/"
        },
        "id": "TWa2e2Rd9WRQ",
        "outputId": "0b46de44-069b-4131-c3fc-1bbceaf82f11"
      },
      "execution_count": 132,
      "outputs": [
        {
          "output_type": "stream",
          "name": "stdout",
          "text": [
            "#1: çat\n",
            "#2: dog\n",
            "#3: monkey\n"
          ]
        }
      ]
    },
    {
      "cell_type": "code",
      "source": [],
      "metadata": {
        "id": "hoHR15Ay-Acp"
      },
      "execution_count": null,
      "outputs": []
    }
  ]
}